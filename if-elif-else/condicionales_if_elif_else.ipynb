{
  "nbformat": 4,
  "nbformat_minor": 0,
  "metadata": {
    "colab": {
      "provenance": []
    },
    "kernelspec": {
      "name": "python3",
      "display_name": "Python 3"
    },
    "language_info": {
      "name": "python"
    }
  },
  "cells": [
    {
      "cell_type": "markdown",
      "source": [
        "                   CONDICIONALES IF - ELIF - ELSE\n",
        "                  \n",
        "Por que y para que los condicionales if/else y elif en python?\n",
        "\n",
        "- Las estructuras condicionales permiten ejecutar diferentes bloques de código\n",
        "- según si una condición es verdadera o falsa.\n",
        "- si la condicion es verdadera se ejecuta el bloque if, si la condicion es falsa se ejecuta el bloque else.\n",
        "- se usa si la condicion del (if) es falsa, permite probar otras condiciones si las previas no son verdaderas.\n",
        "- (elif) sirve para Probar otras opciones si la primera no se cumple\n",
        "---\n",
        "\n"
      ],
      "metadata": {
        "id": "HYPq8AlIMwMW"
      }
    },
    {
      "cell_type": "code",
      "source": [
        "# ejemplo\n",
        "\n",
        "calificacion = int(input(\"Ingresa tu calificación: \"))\n",
        "# Muestra un mensaje en pantalla para que el usuario escriba su calificación.\n",
        "# input() recibe el valor como texto.\n",
        "# int() convierte ese texto a un número entero.\n",
        "# Ese número se guarda en la variable calificacion.\n",
        "if calificacion >= 90:\n",
        "# Se revisa si la calificación es 90 o más.\n",
        "# Si es cierto, se ejecuta lo que está dentro de este bloque.\n",
        "  print(\"Excelente\")\n",
        "# Se muestra el mensaje \"Excelente\" si la condición del if se cumple.\n",
        "elif calificacion >= 80:\n",
        "# Si la primera condición no se cumplió, se revisa si la calificación es 80 o más.\n",
        "# Si sí, se ejecuta este bloque.\n",
        "  print(\"Bueno\")\n",
        "# Se imprime \"Bueno\" si la calificación está entre 80 y 89.\n",
        "elif calificacion >= 70:\n",
        "# Si las anteriores no se cumplieron, se revisa si la calificación es 70 o más.\n",
        "  print(\"Regular\")\n",
        "# Se imprime \"Regular\" si la calificación está entre 70 y 79.\n",
        "else:\n",
        "  print(\"Reprobado\")\n",
        "# Si ninguna condición anterior se cumple (es decir, si la calificación es menos de 70), se ejecuta este bloque.\n",
        "#  Se muestra el mensaje \"Reprobado\"."
      ],
      "metadata": {
        "id": "Kgw568GyM1vF",
        "colab": {
          "base_uri": "https://localhost:8080/"
        },
        "outputId": "63d15fd1-907e-4c59-8fc6-dcac20d0529a"
      },
      "execution_count": null,
      "outputs": [
        {
          "output_type": "stream",
          "name": "stdout",
          "text": [
            "Ingresa tu calificación: 4\n",
            "Reprobado\n"
          ]
        }
      ]
    },
    {
      "cell_type": "markdown",
      "source": [
        "ejemplo con su respectivo audio [ audio if-elif-else] https://andypg-crypto.github.io/fichasalgoritmos/if-elif-else/if-elif-else.mp3"
      ],
      "metadata": {
        "id": "LLLA1iEW3Pwf"
      }
    },
    {
      "cell_type": "code",
      "source": [
        "# ejemplo\n",
        "\n",
        "temperatura = 30\n",
        "# Creamos una variable llamada temperatura y le asignamos el valor 30\n",
        "if temperatura >= 35:\n",
        "    print(\"Hace mucho calor.\")\n",
        "# Primera condición: si la temperatura es de 35 grados o más, mostramos “Hace mucho calor.”\n",
        "elif temperatura >= 20:\n",
        "    print(\"El clima está agradable.\")\n",
        "# Si no se cumple la anterior, preguntamos si es 20 o más. Si sí, mostramos “El clima está agradable.”\n",
        "elif temperatura >= 10:\n",
        "    print(\"Hace un poco de frío.\")\n",
        "# Si no se cumplen las dos anteriores, pero es 10 o más, decimos “Hace un poco de frío.”\n",
        "else:\n",
        "    print(\"Hace mucho frío.\")\n",
        "#  Mostramos ese mensaje si estamos en clima muy frío"
      ],
      "metadata": {
        "colab": {
          "base_uri": "https://localhost:8080/"
        },
        "id": "FPllsNajcFHe",
        "outputId": "ea164220-91aa-4aa6-e07a-d48fe3043ae7"
      },
      "execution_count": null,
      "outputs": [
        {
          "output_type": "stream",
          "name": "stdout",
          "text": [
            "El clima está agradable.\n"
          ]
        }
      ]
    }
  ]
}