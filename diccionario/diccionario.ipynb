{
  "nbformat": 4,
  "nbformat_minor": 0,
  "metadata": {
    "colab": {
      "provenance": []
    },
    "kernelspec": {
      "name": "python3",
      "display_name": "Python 3"
    },
    "language_info": {
      "name": "python"
    }
  },
  "cells": [
    {
      "cell_type": "markdown",
      "source": [
        "                             DICCIONARIO\n",
        "Por que y para que los diccionarios en python?\n",
        "\n",
        "- permiten asociar valores a claves únicas, facilitando la\n",
        "búsqueda y recuperación de datos de manera eficiente.\n",
        "- se usan cuando queremos almacenar datos estructurados en pares clave-valor.\n",
        "- Los diccionarios son útiles para:\n",
        "- Acceder a valores rápidamente mediante su clave, en lugar de índices como en listas.\n",
        "- Representar objetos del mundo real, como información de usuarios, productos, configuraciones, etc.\n",
        "- Optimizar búsquedas y manipulación de datos.\n"
      ],
      "metadata": {
        "id": "VXo6jYqRLXT9"
      }
    },
    {
      "cell_type": "code",
      "execution_count": null,
      "metadata": {
        "colab": {
          "base_uri": "https://localhost:8080/"
        },
        "id": "EdWbCLErLQ3h",
        "outputId": "dba22156-a7f4-4143-eb06-bc8128ad5a59"
      },
      "outputs": [
        {
          "output_type": "stream",
          "name": "stdout",
          "text": [
            "Capital: Bogota\n",
            "Población actualizada: 8500000\n",
            "Diccionario actualizado: {'nombre': 'Colombia', 'capital': 'Bogota', 'poblacion': 8500000, 'moneda': 'Peso Colombiano', 'idioma': 'Español'}\n",
            "Después de eliminar 'moneda': {'nombre': 'Colombia', 'capital': 'Bogota', 'poblacion': 8500000, 'idioma': 'Español'}\n"
          ]
        }
      ],
      "source": [
        "#ejemplo\n",
        "pais = {\n",
        "    \"nombre\": \"Colombia\",\n",
        "    \"capital\": \"Bogota\",\n",
        "    \"poblacion\": 8000000,\n",
        "    \"moneda\": \"Peso Colombiano\"\n",
        "}\n",
        "# Se crea un diccionario llamado pais, que contiene información sobre un país.\n",
        "# Cada línea dentro del diccionario tiene una clave (como \"nombre\") y un valor (como \"Colombia\").\n",
        "print(\"Capital:\", pais[\"capital\"])  # Output: Bogota\n",
        "# Se imprime la capital del país, accediendo al valor de la clave \"capital\" en el diccionario.\n",
        "pais[\"poblacion\"] = 8500000\n",
        "# Se actualiza la población del país, cambiando el valor de la clave \"poblacion\" a 8500000.\n",
        "print(\"Población actualizada:\", pais[\"poblacion\"])\n",
        "# Se muestra en pantalla la nueva población.\n",
        "pais[\"idioma\"] = \"Español\"\n",
        "# Se agrega una nueva clave llamada \"idioma\" al diccionario, con el valor \"Español\".\n",
        "print(\"Diccionario actualizado:\", pais)\n",
        "# Se imprime el diccionario completo, mostrando todos los datos actuales (incluyendo el idioma agregado).\n",
        "del pais[\"moneda\"]\n",
        "# Se elimina la clave \"moneda\" (y su valor) del diccionario usando del.\n",
        "print(\"Después de eliminar 'moneda':\", pais)\n",
        "# Se imprime el diccionario final, ya sin la clave \"moneda\"."
      ]
    },
    {
      "cell_type": "markdown",
      "source": [
        "ejemplo con su respectivo audio [audio dicciobarios] https://andypg-crypto.github.io/fichasalgoritmos/diccionario/diccionario-anidado.mp3"
      ],
      "metadata": {
        "id": "7M24g1b-5A2w"
      }
    },
    {
      "cell_type": "code",
      "source": [
        "# ejemplo\n",
        "\n",
        "estudiantes = { Este bucle repite algo desde 1 hasta 5. La variable i va tomando los valores 1, 2, 3, 4 y 5.\n",
        "    \"Carlos\": {\"edad\": 22, \"notas\": [8, 9, 7]},\n",
        "    \"Ana\": {\"edad\": 20, \"notas\": [6, 7, 8]},\n",
        "    \"Luis\": {\"edad\": 21, \"notas\": [9, 9, 10]}\n",
        "}\n",
        "# Creamos un diccionario llamado estudiantes. En este diccionario,\n",
        "# las claves son los nombres de los estudiantes (por ejemplo, \"Carlos\") y el valor es otro diccionario que contiene su edad y sus notas\n",
        "print(\"Edad de Carlos:\", estudiantes[\"Carlos\"][\"edad\"])\n",
        "# Accedemos al valor de \"Carlos\", que es un diccionario, y de ese diccionario, obtenemos la edad de Carlos\n",
        "print(\"Notas de Ana:\", estudiantes[\"Ana\"][\"notas\"])\n",
        "# Accedemos a las notas de Ana"
      ],
      "metadata": {
        "colab": {
          "base_uri": "https://localhost:8080/"
        },
        "id": "WmMLi72jf3mt",
        "outputId": "7998b478-4690-4645-b3bb-aefc6820024b"
      },
      "execution_count": null,
      "outputs": [
        {
          "output_type": "stream",
          "name": "stdout",
          "text": [
            "Edad de Carlos: 22\n",
            "Notas de Ana: [6, 7, 8]\n"
          ]
        }
      ]
    }
  ]
}