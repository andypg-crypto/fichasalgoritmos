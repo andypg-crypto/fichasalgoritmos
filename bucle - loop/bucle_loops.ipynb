{
  "nbformat": 4,
  "nbformat_minor": 0,
  "metadata": {
    "colab": {
      "provenance": []
    },
    "kernelspec": {
      "name": "python3",
      "display_name": "Python 3"
    },
    "language_info": {
      "name": "python"
    }
  },
  "cells": [
    {
      "cell_type": "markdown",
      "source": [
        "                              BUCLE/LOOPS\n",
        "\n",
        "Por que y para que los bucles/loops en python?\n",
        "\n",
        "- permiten ejecutar un bloque de código repetidamente mientras se cumpla una condición.\n",
        "- En Python, existen dos tipos principales de bucles:\n",
        "- [for] es una herramienta esencial para la iteración,\n",
        "- permitiendo ejecutar un bloque de código repetidamente sobre una secuencia de elementos.\n",
        "- El bucle for en Python es una herramienta poderosa y versátil que simplifica la iteración y automatiza tareas repetitivas\n",
        "- Su sintaxis clara y su eficiencia lo convierten en una parte fundamental de la programación en Python."
      ],
      "metadata": {
        "id": "Rh2c5GNZL8It"
      }
    },
    {
      "cell_type": "code",
      "execution_count": null,
      "metadata": {
        "colab": {
          "base_uri": "https://localhost:8080/"
        },
        "id": "SBT75IDVL67y",
        "outputId": "9ff66b0f-74bd-4c71-a9d1-b741a12a3606"
      },
      "outputs": [
        {
          "output_type": "stream",
          "name": "stdout",
          "text": [
            "A\n",
            "N\n",
            "D\n",
            "Y\n",
            "A\n",
            "N\n",
            "D\n",
            "E\n",
            "R\n"
          ]
        }
      ],
      "source": [
        "#ejemplo con bucle for\n",
        "\n",
        "palabra = \"ANDY\"\n",
        "# Se crea una variable llamada palabra y se le asigna el texto \"ANDY\".\n",
        "# Esto es una cadena de caracteres (string) que representa un nombre.\n",
        "for letra in palabra:\n",
        "# Se inicia un bucle for que va a recorrer cada letra de la palabra \"ANDERSON\".\n",
        "# En cada repetición del bucle, la variable letra toma una letra diferente de la palabra.\n",
        "  print(letra)\n",
        "# Dentro del bucle, se imprime la letra actual en cada vuelta.\n",
        "# Esto hace que las letras de \"ANDERSON\" se impriman una por una, en líneas separadas.\n",
        "\n",
        "# ejemplo cNo bucle while\n",
        "\n",
        "palabra = \"ANDER\"\n",
        "# Se crea una variable llamada palabra con el texto \"ANDER\" (una cadena de caracteres).\n",
        "i = 0\n",
        "# Se crea una variable i y se le asigna el valor 0.\n",
        "# Esta variable servirá como contador o índice para recorrer la palabra.\n",
        "while i < len(palabra):\n",
        "# Se inicia un bucle while que se repetirá mientras i sea menor que la longitud de la palabra.\n",
        "# len(palabra) devuelve cuántas letras tiene la palabra (5 en este caso).\n",
        " print(palabra[i])\n",
        "# Se imprime la letra en la posición i de la palabra.\n",
        "# Por ejemplo, cuando i es 0, se imprime \"A\", luego \"N\", etc.\n",
        " i += 1\n",
        "# Se aumenta i en 1 para pasar a la siguiente letra en la próxima vuelta del bucle."
      ]
    },
    {
      "cell_type": "markdown",
      "source": [
        "ejemplo con su respectivo audio\n",
        "[audio de funciones] https://andypg-crypto.github.io/fichasalgoritmos/bucle%20-%20loop/bucle-loops.mp3"
      ],
      "metadata": {
        "id": "MZ2WJFH95LRm"
      }
    },
    {
      "cell_type": "code",
      "source": [
        "# ejemplo\n",
        "\n",
        "for i in range(1, 6):\n",
        "# Este bucle repite algo desde 1 hasta 5. La variable i va tomando los valores 1, 2, 3, 4 y 5.\n",
        "# \"Aquí usamos un bucle for junto con range. Esto significa: empieza en 1 y llega hasta el 5. ¡Ojo! El número 6 no se incluye.\"\n",
        "# ¿Por qué? Porque range() funciona con el principio de inicio incluido, fin excluido. O sea,\n",
        "# empieza en el número que le indiques, pero se detiene justo antes del ultimo número.\n",
        "    print(\"Número:\", i)\n",
        "# En cada repetición, se imprime el número actual (i).\n"
      ],
      "metadata": {
        "id": "Cvea9jqkdJ4-",
        "colab": {
          "base_uri": "https://localhost:8080/"
        },
        "outputId": "1e872e13-cbf7-4c78-e8b0-15c506ec5ce0"
      },
      "execution_count": null,
      "outputs": [
        {
          "output_type": "stream",
          "name": "stdout",
          "text": [
            "Número: 1\n",
            "Número: 2\n",
            "Número: 3\n",
            "Número: 4\n",
            "Número: 5\n"
          ]
        }
      ]
    }
  ]
}