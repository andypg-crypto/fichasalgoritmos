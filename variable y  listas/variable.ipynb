{
  "nbformat": 4,
  "nbformat_minor": 0,
  "metadata": {
    "colab": {
      "provenance": []
    },
    "kernelspec": {
      "name": "python3",
      "display_name": "Python 3"
    },
    "language_info": {
      "name": "python"
    }
  },
  "cells": [
    {
      "cell_type": "markdown",
      "source": [
        "VARIABLE"
      ],
      "metadata": {
        "id": "kfgibdbbE4bw"
      }
    },
    {
      "cell_type": "markdown",
      "source": [
        "porque y para que sirven las variables?\n",
        "- sirve para no repetir valores\n",
        "- todo en programación se basa en datos y necesitas una forma de guardar, modificar y usar esos datos: ahí entran las variables.\n",
        "- guardan informacion, hacen calculos y operaciones, reutilizan datos facilmente\n",
        "- hacen el codigo mas facil y ordenado\n",
        "\n"
      ],
      "metadata": {
        "id": "N0WM1KxCb53c"
      }
    },
    {
      "cell_type": "code",
      "source": [
        "# ejemplo\n",
        "\n",
        "base = 10\n",
        "# Aquí se está asignando el valor 10 a una variable llamada base que representa la base de un rectángulo\n",
        "altura = 5\n",
        "# Ahora se está asignando el valor 5 a una variable llamada altura. Esta representa la altura del rectángulo.\n",
        "area = base * altura\n",
        "# Se está calculando el área del rectángulo multiplicando la base por la altura, y el resultado se guarda en una nueva variable llamada area.\n",
        "print(\"Área del rectángulo:\", area)\n",
        "# Se muestra en pantalla el texto \"Área del rectángulo:\" seguido del valor de la variable area."
      ],
      "metadata": {
        "id": "uff6oQ2BE8xN",
        "colab": {
          "base_uri": "https://localhost:8080/"
        },
        "outputId": "7cbac9cc-8a17-4361-c1f5-6dbbdde78b05"
      },
      "execution_count": null,
      "outputs": [
        {
          "output_type": "stream",
          "name": "stdout",
          "text": [
            "Área del rectángulo: 50\n"
          ]
        }
      ]
    },
    {
      "cell_type": "markdown",
      "source": [
        "ejemplo con su respectivo audio [ audio variables] https://andypg-crypto.github.io/fichasalgoritmos/variable%20y%20%20listas/variable.mp3"
      ],
      "metadata": {
        "id": "UysFLYdRv_Bl"
      }
    },
    {
      "cell_type": "code",
      "source": [
        "# ejemplo\n",
        "\n",
        "palabras = [\"manzana\", \"perro\", \"elefante\", \"gato\", \"automóvil\", \"casa\"]\n",
        "# Creamos una lista llamada palabras que contiene varias palabras\n",
        "palabras_largas = []\n",
        "# Creamos una lista vacía llamada palabras_largas, donde vamos a guardar las palabras que cumplan con la condición de ser largas\n",
        "for palabra in palabras:\n",
        "# Usamos un bucle for para recorrer cada palabra de la lista palabras\n",
        "    if len(palabra) > 5:\n",
        "# Dentro del bucle, verificamos si la longitud de la palabra (usando len(palabra)) es mayor que 5\n",
        "        palabras_largas.append(palabra)\n",
        "# Si la palabra tiene más de 5 letras, la agregamos a la lista palabras_largas usando el método append()\n",
        "print(\"Palabras con más de 5 letras:\", palabras_largas)\n",
        "# resultado nos mostrara las respuestas segun la condicion"
      ],
      "metadata": {
        "id": "fBDPom4mhI78",
        "colab": {
          "base_uri": "https://localhost:8080/"
        },
        "outputId": "47d3ac76-1043-451f-8cbb-74d54481c6c7"
      },
      "execution_count": null,
      "outputs": [
        {
          "output_type": "stream",
          "name": "stdout",
          "text": [
            "Palabras con más de 5 letras: ['manzana', 'elefante', 'automóvil']\n"
          ]
        }
      ]
    }
  ]
}