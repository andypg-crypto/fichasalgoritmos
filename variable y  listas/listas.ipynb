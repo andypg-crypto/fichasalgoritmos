{
  "nbformat": 4,
  "nbformat_minor": 0,
  "metadata": {
    "colab": {
      "provenance": []
    },
    "kernelspec": {
      "name": "python3",
      "display_name": "Python 3"
    },
    "language_info": {
      "name": "python"
    }
  },
  "cells": [
    {
      "cell_type": "markdown",
      "source": [
        "                               LISTAS\n",
        "  Por que y para sirven las listas en python?\n",
        "\n",
        "- Son colecciones ordenadas y modificables que pueden contener elementos de\n",
        "- diferentes tipos, (números, cadenas de texto, incluso otras listas).\n",
        "- Se utilizan para almacenar secuencias de datos y permiten operaciones como agregar, eliminar y acceder a elementos por su índice.\n",
        "Las listas son muy útiles para:\n",
        "- Almacenar múltiples valores en una sola variable.\n",
        "- cceder a los elementos usando índices.\n",
        "- Modificar, agregar o eliminar elementos fácilmente.\n",
        "- terar sobre los elementos usando bucles (for, while).\n",
        "- Realizar operaciones y manipulaciones como ordenamiento, filtrado, concatenación, etc."
      ],
      "metadata": {
        "id": "eWT7JFUSKh9U"
      }
    },
    {
      "cell_type": "code",
      "execution_count": null,
      "metadata": {
        "colab": {
          "base_uri": "https://localhost:8080/"
        },
        "id": "t5KbOJMIKddZ",
        "outputId": "764f4077-0193-4ff2-9f1a-1a07686fd695"
      },
      "outputs": [
        {
          "output_type": "stream",
          "name": "stdout",
          "text": [
            "Lista inicial: ['Colombia', 'Brasil', 'España', 'Chile', 'Argentina', 'Italia']\n",
            "Lista después de agregar Ecuador: ['Colombia', 'Brasil', 'España', 'Chile', 'Argentina', 'Italia', 'Ecuador']\n",
            "Lista después de eliminar Brasil: ['Colombia', 'España', 'Chile', 'Argentina', 'Italia', 'Ecuador']\n",
            "Lista de paises: ['Colombia', 'España', 'Chile', 'Argentina', 'Italia', 'Ecuador']\n"
          ]
        }
      ],
      "source": [
        "# ejemplo\n",
        "\n",
        "paises = [\"Colombia\", \"Brasil\", \"España\", \"Chile\", \"Argentina\", \"Italia\"]\n",
        "# Se crea una lista llamada paises que contiene varios nombres de países.\n",
        "print(\"Lista inicial:\",paises)\n",
        "# Se muestra la lista original de países en pantalla.\n",
        "paises.append(\"Ecuador\")\n",
        "# Se agrega el país \"Ecuador\" al final de la lista usando .append().\n",
        "print(\"Lista después de agregar Ecuador:\", paises)\n",
        "# Se muestra la lista actualizada, ya con \"Ecuador\" al final.\n",
        "paises.remove(\"Brasil\")\n",
        "# Se elimina el país \"Brasil\" de la lista usando .remove().\n",
        "print(\"Lista después de eliminar Brasil:\", paises)\n",
        "# Se muestra la lista nuevamente, esta vez sin \"Brasil\".\n",
        "print(\"Lista de paises:\", paises)\n",
        "# Finalmente, se imprime la lista completa de países tal como está después de los cambios."
      ]
    },
    {
      "cell_type": "markdown",
      "source": [
        "ejemplo con su respectivo audio [ audio listas] https://andypg-crypto.github.io/fichasalgoritmos/variable%20y%20%20listas/listas.mp3"
      ],
      "metadata": {
        "id": "CXtMICzE1Gt1"
      }
    },
    {
      "cell_type": "code",
      "source": [
        "# ejemplo\n",
        "\n",
        "juguetes = [\"peluches\", \"fichas\", \"pelotas\"]\n",
        "# Creamos una lista llamada peluches, que guarda varios elementos (en este caso, cadenas de texto)\n",
        "for juguetes in juguetes:\n",
        "# Recorremos la lista con un bucle for. Cada vuelta, nombre toma un valor de la lista\n",
        "    print(\"quiero mis,\", juguetes)\n",
        "# llmamos cada objeto de la lista"
      ],
      "metadata": {
        "colab": {
          "base_uri": "https://localhost:8080/"
        },
        "id": "FtkopByPe99t",
        "outputId": "949ff813-1b62-4381-9a5f-bbccfa9199aa"
      },
      "execution_count": null,
      "outputs": [
        {
          "output_type": "stream",
          "name": "stdout",
          "text": [
            "quiero mis, peluches\n",
            "quiero mis, fichas\n",
            "quiero mis, pelotas\n"
          ]
        }
      ]
    }
  ]
}