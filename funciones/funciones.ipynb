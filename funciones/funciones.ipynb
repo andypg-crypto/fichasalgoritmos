{
  "nbformat": 4,
  "nbformat_minor": 0,
  "metadata": {
    "colab": {
      "provenance": []
    },
    "kernelspec": {
      "name": "python3",
      "display_name": "Python 3"
    },
    "language_info": {
      "name": "python"
    }
  },
  "cells": [
    {
      "cell_type": "markdown",
      "source": [
        "                          FUNCIONES\n",
        "\n",
        "porque y para que sirven las funciones en python?\n",
        "\n",
        "- son bloques de código reutilizables que realizan una tarea específica.\n",
        "- Permiten organizar y modularizar el código, facilitando su mantenimiento y comprensión.\n",
        "- Cada función se diseña para cumplir un propósito concreto, como calcular un valor, procesar datos o realizar una acción.\n",
        "- Evitan la repetición de código.\n",
        "- sirve para definir la entrada, proceso y salida.\n",
        "- sirve como separador\n",
        "- al declarar una funcion se establece un (scope) permite proteger el contenido interno sin que se afecte lo externo.\n",
        "- las funciones pueden requerir muchos parametros y estos deben afectar el scope interno de la funcion"
      ],
      "metadata": {
        "id": "UuiwOJhION_z"
      }
    },
    {
      "cell_type": "code",
      "source": [
        "\n",
        "# ejemplo\n",
        "\n",
        "def saludar(nombre):\n",
        "# Se define una función llamada saludar que recibe un parámetro llamado nombre.\n",
        "# Ese parámetro será el nombre de la persona a quien se va a saludar.\n",
        "  print(f\"¡Hola, {nombre}!\")\n",
        "# Dentro de la función, se imprime un saludo usando una f-string (una forma de combinar texto con variables).\n",
        "# El {nombre} se reemplaza por el valor que se pase al llamar la función.\n",
        "saludar(\"Ana\")\n",
        "saludar(\"Carlos\")\n",
        "# Se llama a la función saludar y se le pasa \"Ana\" \"carlos\"como argumento.\n",
        "# El resultado será: ¡Hola, Ana!, ¡hola, carlos!,\n",
        "\n"
      ],
      "metadata": {
        "id": "w01oMdUJkBQ1",
        "outputId": "6261aa91-948b-49c4-f6c6-4b3c43e4cfb2",
        "colab": {
          "base_uri": "https://localhost:8080/"
        }
      },
      "execution_count": null,
      "outputs": [
        {
          "output_type": "stream",
          "name": "stdout",
          "text": [
            "¡Hola, Ana!\n",
            "¡Hola, Carlos!\n"
          ]
        }
      ]
    },
    {
      "cell_type": "markdown",
      "source": [
        " ejemplo con su respecto audio [audio funciones] https://andypg-crypto.github.io/fichasalgoritmos/funciones/funciones.mp3"
      ],
      "metadata": {
        "id": "jsZMzvzz6js2"
      }
    },
    {
      "cell_type": "code",
      "source": [
        "# ejemplo\n",
        "\n",
        "def calcular_area_triangulo(base, altura):\n",
        "# Definimos una función con dos parámetros: base y altura\n",
        "  area = (base * altura) / 2\n",
        "# Calculamos el área del triángulo usando la fórmula: base por altura, dividido por 2\n",
        "  return area\n",
        "# Con return, devolvemos el resultado del cálculo al lugar donde se llamó\n",
        "   # la función\n",
        "resultado = calcular_area_triangulo(5, 3)\n",
        "#  Llamamos a la función con base 5 y altura 3, y guardamos el resultado en la variable resultado\n",
        "print(\"El área del triángulo es:\", resultado)\n",
        "# Mostramos el resultado en pantalla"
      ],
      "metadata": {
        "id": "N6yUvXmOedEd",
        "colab": {
          "base_uri": "https://localhost:8080/"
        },
        "outputId": "829f26e5-1e1e-4193-c526-beb1dc9eff42"
      },
      "execution_count": null,
      "outputs": [
        {
          "output_type": "stream",
          "name": "stdout",
          "text": [
            "El área del triángulo es: 7.5\n"
          ]
        }
      ]
    }
  ]
}