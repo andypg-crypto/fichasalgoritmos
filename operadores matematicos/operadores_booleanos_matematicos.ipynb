{
  "nbformat": 4,
  "nbformat_minor": 0,
  "metadata": {
    "colab": {
      "provenance": []
    },
    "kernelspec": {
      "name": "python3",
      "display_name": "Python 3"
    },
    "language_info": {
      "name": "python"
    }
  },
  "cells": [
    {
      "cell_type": "markdown",
      "source": [
        "                OPERADORES BOOLEANOS Y MATEMATICOS\n",
        "\n",
        "porque y para que sirven los operadores booleano y matematicos en pyhon?\n",
        "\n",
        "- Los operadores booleanos (and, or, not y sus comparadores) se utilizan para combinar condiciones lógicas.\n",
        "- se usan para realizar comparaciones lógicas y tomar decisiones en el código.\n",
        "- Devuelven valores True (verdadero) o False (falso) según la condición evaluada.\n",
        "- Los operadores matemáticos (+, -, *, /, %) realizan operaciones aritméticas.\n",
        "- son herraientas esenciales para hacer calculos y operaciones.\n"
      ],
      "metadata": {
        "id": "yBxI0ZZdNlLb"
      }
    },
    {
      "cell_type": "code",
      "execution_count": null,
      "metadata": {
        "id": "XUUDHwR5NjWK",
        "colab": {
          "base_uri": "https://localhost:8080/"
        },
        "outputId": "4ff0f28b-93ed-4574-9164-ffa00dd3399c"
      },
      "outputs": [
        {
          "output_type": "stream",
          "name": "stdout",
          "text": [
            "Ingresa el primer número: 5\n",
            "Ingresa el segundo número: 5\n",
            "El número está dentro del rango\n"
          ]
        }
      ],
      "source": [
        "#ejemplo\n",
        "\n",
        "numero = 15\n",
        "minimo = 10\n",
        "maximo = 20\n",
        "# Se crea una variable llamada numero y se le asigna el valor 15.\n",
        "# Se crea otra variable minimo con el valor 10 (Representa el límite inferior del rango).\n",
        "# Se crea la variable maximo con el valor 20 (Representa el límite superior del rango).\n",
        "int(input(\"Ingresa el primer número: \"))\n",
        "int(input(\"Ingresa el segundo número: \"))\n",
        "# Se muestra un mensaje para que el usuario escriba un número.\n",
        "# los numeros se convierten a entero con int(), pero no se guarda en ninguna variable, así que se pierde.\n",
        "if numero >= minimo and numero <= maximo:\n",
        "# Se revisa si el valor de numero (que es 15) está dentro del rango entre minimo (10) y maximo (20).\n",
        "# Usa el operador lógico and, que significa:\n",
        "# Las dos condiciones deben ser verdaderas para que el bloque se ejecute.\n",
        "  print(\"El número está dentro del rango\")\n",
        "# Si la condición del if es verdadera, se imprime este mensaje.\n",
        "else:\n",
        "# Si la condición del if no se cumple, se ejecuta este bloque alternativo.\n",
        "  print(\"El número está fuera del rango\")\n",
        "# Muestra este mensaje si el número no está entre 10 y 20.\n"
      ]
    },
    {
      "cell_type": "markdown",
      "source": [
        "ejemplo con su respectivo audio [audio operadores booleanos] https://andypg-crypto.github.io/fichasalgoritmos/operadores%20matematicos/operadores-booleanos-matematicos.mp3"
      ],
      "metadata": {
        "id": "sQKyP6kj2Puf"
      }
    },
    {
      "cell_type": "code",
      "source": [
        "# ejemplo\n",
        "\n",
        "numero1 = 8\n",
        "numero2 = 5\n",
        "# Definimos dos variables numéricas: numero1 con el valor 8 y numero2 con el valor 5\n",
        "es_mayor = numero1 > numero2\n",
        "# Usamos el operador de comparación > para verificar si numero1 es mayor que numero2. El resultado es True porque 8 > 5\n",
        "es_igual = numero1 == numero2\n",
        "#  Usamos el operador == para verificar si numero1 es igual a numero2. El resultado es False porque 8 != 5\n",
        "es_menor_o_igual = numero1 <= numero2\n",
        "# Usamos el operador <= para verificar si numero1 es menor o igual que numero2. El resultado es False porque 8 no es menor ni igual a 5\n",
        "resultado = es_mayor and es_igual\n",
        "# Usamos el operador lógico and para combinar las condiciones anteriores: Verificamos si ambas son verdaderas\n",
        "# Como es_mayor es True y es_igual es False, el resultado es False\n",
        "negacion = not es_mayor\n",
        "# Usamos el operador not para negar la condición es_mayor. Como es_mayor es True, la negación será False\n",
        "\n",
        "print(\"¿Es numero1 mayor que numero2?:\", es_mayor)\n",
        "print(\"¿Es numero1 igual a numero2?:\", es_igual)\n",
        "print(\"¿Es numero1 menor o igual que numero2?:\", es_menor_o_igual)\n",
        "print(\"¿Ambas condiciones son verdaderas?:\", resultado)\n",
        "print(\"Negación de la condición 'numero1 > numero2':\", negacion)\n",
        "# resultados basados en nuesto algoritmo"
      ],
      "metadata": {
        "id": "BWMjT1hzh6ix",
        "colab": {
          "base_uri": "https://localhost:8080/"
        },
        "outputId": "ae2da4b9-a85b-4fb1-b563-ed3290432302"
      },
      "execution_count": null,
      "outputs": [
        {
          "output_type": "stream",
          "name": "stdout",
          "text": [
            "¿Es numero1 mayor que numero2?: True\n",
            "¿Es numero1 igual a numero2?: False\n",
            "¿Es numero1 menor o igual que numero2?: False\n",
            "¿Ambas condiciones son verdaderas?: False\n",
            "Negación de la condición 'numero1 > numero2': False\n"
          ]
        }
      ]
    }
  ]
}